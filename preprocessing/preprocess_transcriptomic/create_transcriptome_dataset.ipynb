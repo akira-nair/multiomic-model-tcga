{
 "cells": [
  {
   "cell_type": "markdown",
   "id": "eafeca45",
   "metadata": {},
   "source": [
    "## Preprocess the gene expression RNA-seq (transcriptomic) dataset"
   ]
  },
  {
   "cell_type": "code",
   "execution_count": 25,
   "id": "b471d75e-6845-4e01-89c0-b4a6a9a1680a",
   "metadata": {},
   "outputs": [],
   "source": [
    "import pandas as pd\n",
    "import numpy as np\n",
    "import pandas as pd\n",
    "from sklearn.model_selection import train_test_split\n",
    "import matplotlib.pyplot as plt\n",
    "from sklearn.utils import compute_class_weight\n",
    "import pandas as pd\n",
    "from sklearn.ensemble import RandomForestClassifier\n",
    "from sklearn.feature_selection import SelectFromModel\n",
    "import os"
   ]
  },
  {
   "cell_type": "markdown",
   "id": "af012ce2",
   "metadata": {},
   "source": [
    "We first need the path to our folder containing case-organized data and the destination for storing the processed transcriptomic data."
   ]
  },
  {
   "cell_type": "code",
   "execution_count": 26,
   "id": "bb35be5c",
   "metadata": {},
   "outputs": [],
   "source": [
    "ORGANIZED_BY_CASE_PATH = \"/users/anair27/data/TCGA_Data/project_LUAD/data_by_cases\"\n",
    "DESTINATION_DATA_PATH = \"/users/anair27/data/TCGA_Data/project_LUAD/data_processed/PRCSD_transcriptomic_data.csv\""
   ]
  },
  {
   "cell_type": "markdown",
   "id": "a069f05f",
   "metadata": {},
   "source": [
    "We use the following function to read in RNA-seq data. This function should be adapted to the format of gene expression data used for a project. We isolate RNA-seq data derived in \"fragments per kilobase of exon per million mapped fragments\" (FPKM). Only protein-coding genes are included for our analysis."
   ]
  },
  {
   "cell_type": "code",
   "execution_count": 27,
   "id": "13d68835",
   "metadata": {},
   "outputs": [],
   "source": [
    "def read_gene_expression(filepath, case_id):\n",
    "    arr = []\n",
    "    with open(filepath) as f:\n",
    "        lines = f.readlines()\n",
    "        for l in lines:\n",
    "            arr.append(l.upper().split())\n",
    "    matrix = pd.DataFrame(arr)[1:]\n",
    "    matrix.columns = matrix.iloc[0]\n",
    "    matrix = matrix[matrix[\"GENE_TYPE\"] == \"PROTEIN_CODING\"]\n",
    "    matrix = matrix[['GENE_ID', 'FPKM_UNSTRANDED']].set_index('GENE_ID').transpose()\n",
    "    return matrix.rename(columns={'GENE_ID': 'CASE_ID'},index={'FPKM_UNSTRANDED': case_id}).reset_index().rename(columns={1:'CASE_ID'})\n",
    "    "
   ]
  },
  {
   "cell_type": "code",
   "execution_count": 28,
   "id": "238988b8",
   "metadata": {},
   "outputs": [
    {
     "data": {
      "text/plain": [
       "['TCGA-35-4122',\n",
       " 'TCGA-75-6203',\n",
       " 'TCGA-75-5146',\n",
       " 'TCGA-78-8648',\n",
       " 'TCGA-55-A4DG',\n",
       " 'TCGA-MP-A4SY',\n",
       " 'TCGA-67-3771',\n",
       " 'TCGA-44-A479',\n",
       " 'TCGA-78-7156',\n",
       " 'TCGA-55-7724']"
      ]
     },
     "execution_count": 28,
     "metadata": {},
     "output_type": "execute_result"
    }
   ],
   "source": [
    "cases = os.listdir(ORGANIZED_BY_CASE_PATH)\n",
    "cases[0:10]"
   ]
  },
  {
   "cell_type": "markdown",
   "id": "323a50de",
   "metadata": {},
   "source": [
    "Loop through every case filepath and search for transcriptomic data. Apply the read CSV function to each transcriptomic data found. After all the transcriptomic files are read, we can concatenate them to create a matrix where rows are cases, columns are genes, and values are the respective expression values."
   ]
  },
  {
   "cell_type": "code",
   "execution_count": 29,
   "id": "4c501e47",
   "metadata": {},
   "outputs": [
    {
     "name": "stdout",
     "output_type": "stream",
     "text": [
      "TCGA-05-4245 has no gene expression data\n",
      "TCGA-44-2664 has no gene expression data\n",
      "TCGA-67-3776 has no gene expression data\n",
      "TCGA-44-A47F has no gene expression data\n",
      "TCGA-MP-A4T2 has no gene expression data\n",
      "TCGA-55-8615 has no gene expression data\n"
     ]
    }
   ],
   "source": [
    "gene_exp_data = []\n",
    "for case in cases:\n",
    "    contents_gene_exp = os.listdir(os.path.join(ORGANIZED_BY_CASE_PATH, case, \"gene_expression\"))\n",
    "    if len(contents_gene_exp) == 0:\n",
    "        print(f\"{case} has no gene expression data\")\n",
    "    else:\n",
    "        filename = contents_gene_exp[0]\n",
    "        path = os.path.join(ORGANIZED_BY_CASE_PATH, case, \"gene_expression\", filename)\n",
    "        gene_exp_data.append(read_gene_expression(path, case))     "
   ]
  },
  {
   "cell_type": "code",
   "execution_count": 30,
   "id": "42450ba2",
   "metadata": {},
   "outputs": [
    {
     "data": {
      "text/html": [
       "<div>\n",
       "<style scoped>\n",
       "    .dataframe tbody tr th:only-of-type {\n",
       "        vertical-align: middle;\n",
       "    }\n",
       "\n",
       "    .dataframe tbody tr th {\n",
       "        vertical-align: top;\n",
       "    }\n",
       "\n",
       "    .dataframe thead th {\n",
       "        text-align: right;\n",
       "    }\n",
       "</style>\n",
       "<table border=\"1\" class=\"dataframe\">\n",
       "  <thead>\n",
       "    <tr style=\"text-align: right;\">\n",
       "      <th>GENE_ID</th>\n",
       "      <th>CASE_ID</th>\n",
       "      <th>ENSG00000000003.15</th>\n",
       "      <th>ENSG00000000005.6</th>\n",
       "      <th>ENSG00000000419.13</th>\n",
       "      <th>ENSG00000000457.14</th>\n",
       "      <th>ENSG00000000460.17</th>\n",
       "      <th>ENSG00000000938.13</th>\n",
       "      <th>ENSG00000000971.16</th>\n",
       "      <th>ENSG00000001036.14</th>\n",
       "      <th>ENSG00000001084.13</th>\n",
       "      <th>...</th>\n",
       "      <th>ENSG00000288649.1</th>\n",
       "      <th>ENSG00000288654.1</th>\n",
       "      <th>ENSG00000288656.1</th>\n",
       "      <th>ENSG00000288658.1</th>\n",
       "      <th>ENSG00000288660.1</th>\n",
       "      <th>ENSG00000288661.1</th>\n",
       "      <th>ENSG00000288669.1</th>\n",
       "      <th>ENSG00000288671.1</th>\n",
       "      <th>ENSG00000288674.1</th>\n",
       "      <th>ENSG00000288675.1</th>\n",
       "    </tr>\n",
       "  </thead>\n",
       "  <tbody>\n",
       "    <tr>\n",
       "      <th>0</th>\n",
       "      <td>TCGA-35-4122</td>\n",
       "      <td>46.9281</td>\n",
       "      <td>0.4808</td>\n",
       "      <td>57.9971</td>\n",
       "      <td>1.5523</td>\n",
       "      <td>3.6818</td>\n",
       "      <td>9.8975</td>\n",
       "      <td>6.2302</td>\n",
       "      <td>25.2810</td>\n",
       "      <td>7.0157</td>\n",
       "      <td>...</td>\n",
       "      <td>0.0000</td>\n",
       "      <td>0.0000</td>\n",
       "      <td>0.0000</td>\n",
       "      <td>0.7707</td>\n",
       "      <td>0.0000</td>\n",
       "      <td>0.0000</td>\n",
       "      <td>0.0000</td>\n",
       "      <td>0.0000</td>\n",
       "      <td>0.0061</td>\n",
       "      <td>0.1877</td>\n",
       "    </tr>\n",
       "    <tr>\n",
       "      <th>0</th>\n",
       "      <td>TCGA-75-6203</td>\n",
       "      <td>11.7451</td>\n",
       "      <td>0.0000</td>\n",
       "      <td>18.2141</td>\n",
       "      <td>1.8852</td>\n",
       "      <td>0.5896</td>\n",
       "      <td>25.3843</td>\n",
       "      <td>9.8348</td>\n",
       "      <td>17.5786</td>\n",
       "      <td>1.7791</td>\n",
       "      <td>...</td>\n",
       "      <td>0.0000</td>\n",
       "      <td>0.0000</td>\n",
       "      <td>0.0077</td>\n",
       "      <td>0.0302</td>\n",
       "      <td>0.0000</td>\n",
       "      <td>0.0000</td>\n",
       "      <td>0.0000</td>\n",
       "      <td>0.0000</td>\n",
       "      <td>0.0279</td>\n",
       "      <td>0.2131</td>\n",
       "    </tr>\n",
       "    <tr>\n",
       "      <th>0</th>\n",
       "      <td>TCGA-75-5146</td>\n",
       "      <td>20.3682</td>\n",
       "      <td>0.0225</td>\n",
       "      <td>31.1076</td>\n",
       "      <td>3.2412</td>\n",
       "      <td>0.9620</td>\n",
       "      <td>3.9068</td>\n",
       "      <td>11.0951</td>\n",
       "      <td>22.6927</td>\n",
       "      <td>4.2451</td>\n",
       "      <td>...</td>\n",
       "      <td>0.0000</td>\n",
       "      <td>0.0000</td>\n",
       "      <td>0.0000</td>\n",
       "      <td>0.0000</td>\n",
       "      <td>0.0000</td>\n",
       "      <td>0.0000</td>\n",
       "      <td>0.0000</td>\n",
       "      <td>0.0000</td>\n",
       "      <td>0.0104</td>\n",
       "      <td>0.0988</td>\n",
       "    </tr>\n",
       "    <tr>\n",
       "      <th>0</th>\n",
       "      <td>TCGA-78-8648</td>\n",
       "      <td>5.6365</td>\n",
       "      <td>0.0000</td>\n",
       "      <td>19.6206</td>\n",
       "      <td>1.4938</td>\n",
       "      <td>0.8152</td>\n",
       "      <td>26.8137</td>\n",
       "      <td>18.2827</td>\n",
       "      <td>20.7673</td>\n",
       "      <td>3.5553</td>\n",
       "      <td>...</td>\n",
       "      <td>0.0000</td>\n",
       "      <td>0.0000</td>\n",
       "      <td>0.0000</td>\n",
       "      <td>0.2541</td>\n",
       "      <td>0.0000</td>\n",
       "      <td>0.0000</td>\n",
       "      <td>0.0000</td>\n",
       "      <td>0.0000</td>\n",
       "      <td>0.0107</td>\n",
       "      <td>0.2448</td>\n",
       "    </tr>\n",
       "    <tr>\n",
       "      <th>0</th>\n",
       "      <td>TCGA-55-A4DG</td>\n",
       "      <td>4.6527</td>\n",
       "      <td>0.0000</td>\n",
       "      <td>30.7542</td>\n",
       "      <td>5.0779</td>\n",
       "      <td>1.0228</td>\n",
       "      <td>3.8962</td>\n",
       "      <td>6.0109</td>\n",
       "      <td>12.6130</td>\n",
       "      <td>11.5452</td>\n",
       "      <td>...</td>\n",
       "      <td>0.0000</td>\n",
       "      <td>0.0000</td>\n",
       "      <td>0.0000</td>\n",
       "      <td>0.2708</td>\n",
       "      <td>0.1105</td>\n",
       "      <td>0.0000</td>\n",
       "      <td>0.0000</td>\n",
       "      <td>0.0000</td>\n",
       "      <td>0.0362</td>\n",
       "      <td>0.2391</td>\n",
       "    </tr>\n",
       "  </tbody>\n",
       "</table>\n",
       "<p>5 rows × 19963 columns</p>\n",
       "</div>"
      ],
      "text/plain": [
       "GENE_ID       CASE_ID ENSG00000000003.15 ENSG00000000005.6 ENSG00000000419.13  \\\n",
       "0        TCGA-35-4122            46.9281            0.4808            57.9971   \n",
       "0        TCGA-75-6203            11.7451            0.0000            18.2141   \n",
       "0        TCGA-75-5146            20.3682            0.0225            31.1076   \n",
       "0        TCGA-78-8648             5.6365            0.0000            19.6206   \n",
       "0        TCGA-55-A4DG             4.6527            0.0000            30.7542   \n",
       "\n",
       "GENE_ID ENSG00000000457.14 ENSG00000000460.17 ENSG00000000938.13  \\\n",
       "0                   1.5523             3.6818             9.8975   \n",
       "0                   1.8852             0.5896            25.3843   \n",
       "0                   3.2412             0.9620             3.9068   \n",
       "0                   1.4938             0.8152            26.8137   \n",
       "0                   5.0779             1.0228             3.8962   \n",
       "\n",
       "GENE_ID ENSG00000000971.16 ENSG00000001036.14 ENSG00000001084.13  ...  \\\n",
       "0                   6.2302            25.2810             7.0157  ...   \n",
       "0                   9.8348            17.5786             1.7791  ...   \n",
       "0                  11.0951            22.6927             4.2451  ...   \n",
       "0                  18.2827            20.7673             3.5553  ...   \n",
       "0                   6.0109            12.6130            11.5452  ...   \n",
       "\n",
       "GENE_ID ENSG00000288649.1 ENSG00000288654.1 ENSG00000288656.1  \\\n",
       "0                  0.0000            0.0000            0.0000   \n",
       "0                  0.0000            0.0000            0.0077   \n",
       "0                  0.0000            0.0000            0.0000   \n",
       "0                  0.0000            0.0000            0.0000   \n",
       "0                  0.0000            0.0000            0.0000   \n",
       "\n",
       "GENE_ID ENSG00000288658.1 ENSG00000288660.1 ENSG00000288661.1  \\\n",
       "0                  0.7707            0.0000            0.0000   \n",
       "0                  0.0302            0.0000            0.0000   \n",
       "0                  0.0000            0.0000            0.0000   \n",
       "0                  0.2541            0.0000            0.0000   \n",
       "0                  0.2708            0.1105            0.0000   \n",
       "\n",
       "GENE_ID ENSG00000288669.1 ENSG00000288671.1 ENSG00000288674.1  \\\n",
       "0                  0.0000            0.0000            0.0061   \n",
       "0                  0.0000            0.0000            0.0279   \n",
       "0                  0.0000            0.0000            0.0104   \n",
       "0                  0.0000            0.0000            0.0107   \n",
       "0                  0.0000            0.0000            0.0362   \n",
       "\n",
       "GENE_ID ENSG00000288675.1  \n",
       "0                  0.1877  \n",
       "0                  0.2131  \n",
       "0                  0.0988  \n",
       "0                  0.2448  \n",
       "0                  0.2391  \n",
       "\n",
       "[5 rows x 19963 columns]"
      ]
     },
     "execution_count": 30,
     "metadata": {},
     "output_type": "execute_result"
    }
   ],
   "source": [
    "all_gene_exp = pd.concat(gene_exp_data, axis = 0)\n",
    "all_gene_exp.head()"
   ]
  },
  {
   "cell_type": "code",
   "execution_count": 31,
   "id": "d15c947d",
   "metadata": {},
   "outputs": [],
   "source": [
    "all_gene_exp = all_gene_exp.rename(columns={\"CASE_ID\":\"case_id\"})"
   ]
  },
  {
   "cell_type": "code",
   "execution_count": 32,
   "id": "6123f882",
   "metadata": {},
   "outputs": [],
   "source": [
    "all_gene_exp.to_csv(DESTINATION_DATA_PATH)"
   ]
  },
  {
   "cell_type": "markdown",
   "id": "3209745f",
   "metadata": {},
   "source": [
    "----"
   ]
  }
 ],
 "metadata": {
  "kernelspec": {
   "display_name": "Python 3 (ipykernel)",
   "language": "python",
   "name": "python3"
  },
  "language_info": {
   "codemirror_mode": {
    "name": "ipython",
    "version": 3
   },
   "file_extension": ".py",
   "mimetype": "text/x-python",
   "name": "python",
   "nbconvert_exporter": "python",
   "pygments_lexer": "ipython3",
   "version": "3.10.4"
  }
 },
 "nbformat": 4,
 "nbformat_minor": 5
}
